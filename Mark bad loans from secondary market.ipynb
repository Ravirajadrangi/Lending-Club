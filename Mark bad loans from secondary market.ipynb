{
 "cells": [
  {
   "cell_type": "code",
   "execution_count": null,
   "metadata": {
    "collapsed": true
   },
   "outputs": [],
   "source": [
    "# -*- coding: utf-8 -*-\n",
    "\"\"\"\n",
    "Created on Sun Mar 20 20:38:12 2016\n",
    "\n",
    "Marks loans as bad based on secondary market notes\n",
    "\n",
    "@author: Dharik\n",
    "\"\"\"\n",
    "import pandas as pd\n",
    "\n",
    "notes_for_sale = pd.read_csv( 'https://resources.lendingclub.com/SecondaryMarketAllNotes.csv')\n",
    "\n",
    "bad_notes = notes_for_sale[ notes_for_sale.Status.isin( ['Late (16-30 days)', 'Late (31-120 days)']) ]\n",
    "\n",
    "loans = pd.read_pickle( 'C:\\lc data\\lc.pickle' )\n",
    "print( loans.bad.sum() )\n",
    "\n",
    "def mark_as_bad(x):\n",
    "\tif x in loans.index:\n",
    "\t\tloans.loc[x, 'bad'] = 1\n",
    "\t\t\n",
    "\n",
    "bad_notes.LoanId.apply( mark_as_bad )\n",
    "\n",
    "print(loans.bad.sum() )\n",
    "loans.to_pickle('C:\\lc data\\lc.pickle');\n"
   ]
  }
 ],
 "metadata": {
  "kernelspec": {
   "display_name": "Python 3",
   "language": "python",
   "name": "python3"
  },
  "language_info": {
   "codemirror_mode": {
    "name": "ipython",
    "version": 3
   },
   "file_extension": ".py",
   "mimetype": "text/x-python",
   "name": "python",
   "nbconvert_exporter": "python",
   "pygments_lexer": "ipython3",
   "version": "3.5.1"
  }
 },
 "nbformat": 4,
 "nbformat_minor": 0
}

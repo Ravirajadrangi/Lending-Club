{
 "cells": [
  {
   "cell_type": "code",
   "execution_count": 92,
   "metadata": {
    "collapsed": true
   },
   "outputs": [],
   "source": [
    "import pandas as pd\n",
    "from patsy import dmatrices\n",
    "import datetime\n",
    "import numpy as np\n",
    "from sklearn.cross_validation import train_test_split\n",
    "from sklearn.metrics import roc_curve, auc\n",
    "import matplotlib.pyplot as plt"
   ]
  },
  {
   "cell_type": "code",
   "execution_count": 93,
   "metadata": {
    "collapsed": true
   },
   "outputs": [],
   "source": [
    "loans = pd.read_pickle( 'C:\\lc data\\lc.pickle' )"
   ]
  },
  {
   "cell_type": "code",
   "execution_count": 94,
   "metadata": {
    "collapsed": false
   },
   "outputs": [],
   "source": [
    "loans.sub_grade = loans.sub_grade.astype('category')\n",
    "loans.home_ownership = loans.home_ownership.astype('category')"
   ]
  },
  {
   "cell_type": "code",
   "execution_count": 95,
   "metadata": {
    "collapsed": false
   },
   "outputs": [],
   "source": [
    "newest = datetime.datetime.now() - datetime.timedelta( weeks=4*14 )\n",
    "oldest = datetime.datetime(2010,3,1)\n",
    "loans = loans[ (loans.issue_d > oldest) & (loans.issue_d < newest) ]"
   ]
  },
  {
   "cell_type": "code",
   "execution_count": 96,
   "metadata": {
    "collapsed": false
   },
   "outputs": [],
   "source": [
    "feature_cols = ['bad', 'loan_amnt','int_rate', 'installment', 'emp_length',\n",
    "            'home_ownership', 'sub_grade', 'purpose', 'zip_code',\n",
    "            'pub_rec', 'revol_bal', 'open_acc', 'delinq_2yrs',\n",
    "            'fico_range_low', 'annual_inc']\n",
    "loans=loans[feature_cols]"
   ]
  },
  {
   "cell_type": "code",
   "execution_count": 97,
   "metadata": {
    "collapsed": false
   },
   "outputs": [],
   "source": [
    "y, X = dmatrices('bad ~ + loan_amnt + int_rate + installment + emp_length +\\\n",
    "                 C(home_ownership)+ C(sub_grade) + C(purpose) + zip_code +\\\n",
    "                 pub_rec + revol_bal + open_acc + delinq_2yrs + fico_range_low + annual_inc',\n",
    "                 loans, return_type='dataframe')"
   ]
  },
  {
   "cell_type": "code",
   "execution_count": 105,
   "metadata": {
    "collapsed": false
   },
   "outputs": [
    {
     "data": {
      "text/plain": [
       "Index(['Intercept', 'C(home_ownership)[T.MORTGAGE]',\n",
       "       'C(home_ownership)[T.NONE]', 'C(home_ownership)[T.OTHER]',\n",
       "       'C(home_ownership)[T.OWN]', 'C(home_ownership)[T.RENT]',\n",
       "       'C(sub_grade)[T.A2]', 'C(sub_grade)[T.A3]', 'C(sub_grade)[T.A4]',\n",
       "       'C(sub_grade)[T.A5]', 'C(sub_grade)[T.B1]', 'C(sub_grade)[T.B2]',\n",
       "       'C(sub_grade)[T.B3]', 'C(sub_grade)[T.B4]', 'C(sub_grade)[T.B5]',\n",
       "       'C(sub_grade)[T.C1]', 'C(sub_grade)[T.C2]', 'C(sub_grade)[T.C3]',\n",
       "       'C(sub_grade)[T.C4]', 'C(sub_grade)[T.C5]', 'C(sub_grade)[T.D1]',\n",
       "       'C(sub_grade)[T.D2]', 'C(sub_grade)[T.D3]', 'C(sub_grade)[T.D4]',\n",
       "       'C(sub_grade)[T.D5]', 'C(sub_grade)[T.E1]', 'C(sub_grade)[T.E2]',\n",
       "       'C(sub_grade)[T.E3]', 'C(sub_grade)[T.E4]', 'C(sub_grade)[T.E5]',\n",
       "       'C(sub_grade)[T.F1]', 'C(sub_grade)[T.F2]', 'C(sub_grade)[T.F3]',\n",
       "       'C(sub_grade)[T.F4]', 'C(sub_grade)[T.F5]', 'C(sub_grade)[T.G1]',\n",
       "       'C(sub_grade)[T.G2]', 'C(sub_grade)[T.G3]', 'C(sub_grade)[T.G4]',\n",
       "       'C(sub_grade)[T.G5]', 'C(purpose)[T.credit_card]',\n",
       "       'C(purpose)[T.debt_consolidation]', 'C(purpose)[T.educational]',\n",
       "       'C(purpose)[T.home_improvement]', 'C(purpose)[T.house]',\n",
       "       'C(purpose)[T.major_purchase]', 'C(purpose)[T.medical]',\n",
       "       'C(purpose)[T.moving]', 'C(purpose)[T.other]',\n",
       "       'C(purpose)[T.renewable_energy]', 'C(purpose)[T.small_business]',\n",
       "       'C(purpose)[T.vacation]', 'C(purpose)[T.wedding]', 'loan_amnt',\n",
       "       'int_rate', 'installment', 'emp_length', 'zip_code', 'pub_rec',\n",
       "       'revol_bal', 'open_acc', 'delinq_2yrs', 'fico_range_low', 'annual_inc'],\n",
       "      dtype='object')"
      ]
     },
     "execution_count": 105,
     "metadata": {},
     "output_type": "execute_result"
    }
   ],
   "source": [
    "X.columns"
   ]
  },
  {
   "cell_type": "code",
   "execution_count": 98,
   "metadata": {
    "collapsed": false
   },
   "outputs": [],
   "source": [
    "X_train, X_test, y_train, y_test = train_test_split(X, y, test_size=0.4, random_state=51)"
   ]
  },
  {
   "cell_type": "markdown",
   "metadata": {},
   "source": [
    "# Random forest"
   ]
  },
  {
   "cell_type": "code",
   "execution_count": 99,
   "metadata": {
    "collapsed": false
   },
   "outputs": [
    {
     "name": "stderr",
     "output_type": "stream",
     "text": [
      "[Parallel(n_jobs=-1)]: Done  30 out of  30 | elapsed:   13.6s finished\n",
      "[Parallel(n_jobs=4)]: Done  30 out of  30 | elapsed:    1.1s finished\n"
     ]
    },
    {
     "data": {
      "text/plain": [
       "0.99693138730342179"
      ]
     },
     "execution_count": 99,
     "metadata": {},
     "output_type": "execute_result"
    }
   ],
   "source": [
    "from sklearn.ensemble import RandomForestClassifier\n",
    "y_train = np.ravel(y_train)\n",
    "model = RandomForestClassifier( n_jobs=-1, verbose=1, n_estimators=30)\n",
    "fit = model.fit(X_train, y_train)\n",
    "model.score(X_train, y_train)"
   ]
  },
  {
   "cell_type": "code",
   "execution_count": 100,
   "metadata": {
    "collapsed": false
   },
   "outputs": [
    {
     "name": "stderr",
     "output_type": "stream",
     "text": [
      "[Parallel(n_jobs=4)]: Done  30 out of  30 | elapsed:    0.7s finished\n"
     ]
    },
    {
     "data": {
      "text/plain": [
       "0.89170459918232636"
      ]
     },
     "execution_count": 100,
     "metadata": {},
     "output_type": "execute_result"
    }
   ],
   "source": [
    "model.score(X_test, y_test)"
   ]
  },
  {
   "cell_type": "code",
   "execution_count": 101,
   "metadata": {
    "collapsed": false
   },
   "outputs": [
    {
     "name": "stderr",
     "output_type": "stream",
     "text": [
      "[Parallel(n_jobs=4)]: Done  30 out of  30 | elapsed:    1.1s finished\n"
     ]
    },
    {
     "data": {
      "text/plain": [
       "array([ 0.,  1.,  0., ...,  0.,  0.,  0.])"
      ]
     },
     "execution_count": 101,
     "metadata": {},
     "output_type": "execute_result"
    }
   ],
   "source": [
    "y_predict = model.predict(X_train)\n",
    "y_predict"
   ]
  },
  {
   "cell_type": "code",
   "execution_count": 102,
   "metadata": {
    "collapsed": false
   },
   "outputs": [
    {
     "data": {
      "text/plain": [
       "[('revol_bal', 0.1196686870819821),\n",
       " ('zip_code', 0.11263956254936204),\n",
       " ('installment', 0.10810593046763932),\n",
       " ('annual_inc', 0.10366158885520955),\n",
       " ('loan_amnt', 0.090810798009025639),\n",
       " ('int_rate', 0.090014821567025297),\n",
       " ('open_acc', 0.082268941064315718),\n",
       " ('fico_range_low', 0.069214837912805124),\n",
       " ('emp_length', 0.057736593998183539),\n",
       " ('delinq_2yrs', 0.022915991453476236),\n",
       " ('pub_rec', 0.012968595799235826),\n",
       " ('C(purpose)[T.debt_consolidation]', 0.010789505856084264),\n",
       " ('C(home_ownership)[T.MORTGAGE]', 0.0066786897655230363),\n",
       " ('C(home_ownership)[T.RENT]', 0.0064402433749478072),\n",
       " ('C(purpose)[T.credit_card]', 0.006250520975099357),\n",
       " ('C(home_ownership)[T.OWN]', 0.0056178721457846997),\n",
       " ('C(purpose)[T.other]', 0.0053398511472332695),\n",
       " ('C(purpose)[T.home_improvement]', 0.0050770696977306866),\n",
       " ('C(sub_grade)[T.C5]', 0.0039338957063984456),\n",
       " ('C(sub_grade)[T.C3]', 0.0038312084622630954),\n",
       " ('C(sub_grade)[T.C4]', 0.0038181013425464322),\n",
       " ('C(sub_grade)[T.D1]', 0.0035726606295117575),\n",
       " ('C(sub_grade)[T.D2]', 0.0031869347550582731),\n",
       " ('C(sub_grade)[T.C2]', 0.0031766168529153206),\n",
       " ('C(sub_grade)[T.D3]', 0.0031429271332772501),\n",
       " ('C(purpose)[T.small_business]', 0.0030397234357239112),\n",
       " ('C(sub_grade)[T.D5]', 0.0030225207694802277),\n",
       " ('C(sub_grade)[T.D4]', 0.0030201970310816946),\n",
       " ('C(sub_grade)[T.B5]', 0.0030158151463219067),\n",
       " ('C(purpose)[T.major_purchase]', 0.0030045758995663283),\n",
       " ('C(sub_grade)[T.C1]', 0.0029877010811202561),\n",
       " ('C(sub_grade)[T.B4]', 0.0029204133509172794),\n",
       " ('C(sub_grade)[T.E1]', 0.0027067656096247446),\n",
       " ('C(sub_grade)[T.E2]', 0.0025402366371855001),\n",
       " ('C(sub_grade)[T.B3]', 0.002253482004595539),\n",
       " ('C(sub_grade)[T.E3]', 0.0022074317000433641),\n",
       " ('C(sub_grade)[T.E4]', 0.0020369262287821977),\n",
       " ('C(purpose)[T.medical]', 0.0020265171031237932),\n",
       " ('C(sub_grade)[T.B2]', 0.0019230370903376736),\n",
       " ('C(purpose)[T.moving]', 0.0017785041866825654),\n",
       " ('C(sub_grade)[T.E5]', 0.0017467892218968669),\n",
       " ('C(sub_grade)[T.F1]', 0.0015780683082703916),\n",
       " ('C(sub_grade)[T.B1]', 0.0015047849170087696),\n",
       " ('C(purpose)[T.house]', 0.0014025703977445286),\n",
       " ('C(purpose)[T.vacation]', 0.0013548212660858974),\n",
       " ('C(sub_grade)[T.F3]', 0.001295349981405995),\n",
       " ('C(sub_grade)[T.F2]', 0.0012773336756857951),\n",
       " ('C(purpose)[T.wedding]', 0.0012619428757529973),\n",
       " ('C(sub_grade)[T.A5]', 0.001256258619404906),\n",
       " ('C(sub_grade)[T.A4]', 0.0011762100518841201),\n",
       " ('C(sub_grade)[T.F4]', 0.0011282382437522694),\n",
       " ('C(sub_grade)[T.F5]', 0.0010688448874397441),\n",
       " ('C(sub_grade)[T.G1]', 0.00086471628625484813),\n",
       " ('C(sub_grade)[T.A3]', 0.00076109172416945821),\n",
       " ('C(sub_grade)[T.A2]', 0.00064911586019614014),\n",
       " ('C(sub_grade)[T.G2]', 0.00058233339350687529),\n",
       " ('C(sub_grade)[T.G3]', 0.00057270079088734237),\n",
       " ('C(purpose)[T.renewable_energy]', 0.00042734192451855684),\n",
       " ('C(sub_grade)[T.G4]', 0.00028311882674002145),\n",
       " ('C(sub_grade)[T.G5]', 0.00027062330196242495),\n",
       " ('C(purpose)[T.educational]', 9.1555635462199856e-05),\n",
       " ('C(home_ownership)[T.OTHER]', 6.0612301001943526e-05),\n",
       " ('C(home_ownership)[T.NONE]', 3.9283631746826018e-05),\n",
       " ('Intercept', 0.0)]"
      ]
     },
     "execution_count": 102,
     "metadata": {},
     "output_type": "execute_result"
    }
   ],
   "source": [
    "features = sorted(list(zip(X.columns, model.feature_importances_)), key=lambda x: x[1],\n",
    "      reverse=True)\n",
    "features[:100]"
   ]
  },
  {
   "cell_type": "code",
   "execution_count": 104,
   "metadata": {
    "collapsed": false
   },
   "outputs": [
    {
     "ename": "ValueError",
     "evalue": "Found arrays with inconsistent numbers of samples: [215734 323599]",
     "output_type": "error",
     "traceback": [
      "\u001b[1;31m---------------------------------------------------------------------------\u001b[0m",
      "\u001b[1;31mValueError\u001b[0m                                Traceback (most recent call last)",
      "\u001b[1;32m<ipython-input-104-df88c8c09d88>\u001b[0m in \u001b[0;36m<module>\u001b[1;34m()\u001b[0m\n\u001b[1;32m----> 1\u001b[1;33m \u001b[0mfalse_positive_rate\u001b[0m\u001b[1;33m,\u001b[0m \u001b[0mtrue_positive_rate\u001b[0m\u001b[1;33m,\u001b[0m \u001b[0mthresholds\u001b[0m \u001b[1;33m=\u001b[0m \u001b[0mmetrics\u001b[0m\u001b[1;33m.\u001b[0m\u001b[0mroc_curve\u001b[0m\u001b[1;33m(\u001b[0m\u001b[0my_test\u001b[0m\u001b[1;33m,\u001b[0m \u001b[0my_predict\u001b[0m\u001b[1;33m)\u001b[0m\u001b[1;33m\u001b[0m\u001b[0m\n\u001b[0m\u001b[0;32m      2\u001b[0m \u001b[0mroc_auc\u001b[0m \u001b[1;33m=\u001b[0m \u001b[0mauc\u001b[0m\u001b[1;33m(\u001b[0m\u001b[0mfalse_positive_rate\u001b[0m\u001b[1;33m,\u001b[0m \u001b[0mtrue_positive_rate\u001b[0m\u001b[1;33m)\u001b[0m\u001b[1;33m\u001b[0m\u001b[0m\n\u001b[0;32m      3\u001b[0m \u001b[1;33m\u001b[0m\u001b[0m\n\u001b[0;32m      4\u001b[0m \u001b[0mplt\u001b[0m\u001b[1;33m.\u001b[0m\u001b[0mtitle\u001b[0m\u001b[1;33m(\u001b[0m\u001b[1;34m'Receiver Operating Characteristic'\u001b[0m\u001b[1;33m)\u001b[0m\u001b[1;33m\u001b[0m\u001b[0m\n\u001b[0;32m      5\u001b[0m plt.plot(false_positive_rate, true_positive_rate, 'b',\n",
      "\u001b[1;32mC:\\Users\\Dharik\\Anaconda3\\lib\\site-packages\\sklearn\\metrics\\ranking.py\u001b[0m in \u001b[0;36mroc_curve\u001b[1;34m(y_true, y_score, pos_label, sample_weight, drop_intermediate)\u001b[0m\n\u001b[0;32m    495\u001b[0m     \"\"\"\n\u001b[0;32m    496\u001b[0m     fps, tps, thresholds = _binary_clf_curve(\n\u001b[1;32m--> 497\u001b[1;33m         y_true, y_score, pos_label=pos_label, sample_weight=sample_weight)\n\u001b[0m\u001b[0;32m    498\u001b[0m \u001b[1;33m\u001b[0m\u001b[0m\n\u001b[0;32m    499\u001b[0m     \u001b[1;31m# Attempt to drop thresholds corresponding to points in between and\u001b[0m\u001b[1;33m\u001b[0m\u001b[1;33m\u001b[0m\u001b[0m\n",
      "\u001b[1;32mC:\\Users\\Dharik\\Anaconda3\\lib\\site-packages\\sklearn\\metrics\\ranking.py\u001b[0m in \u001b[0;36m_binary_clf_curve\u001b[1;34m(y_true, y_score, pos_label, sample_weight)\u001b[0m\n\u001b[0;32m    288\u001b[0m         \u001b[0mDecreasing\u001b[0m \u001b[0mscore\u001b[0m \u001b[0mvalues\u001b[0m\u001b[1;33m.\u001b[0m\u001b[1;33m\u001b[0m\u001b[0m\n\u001b[0;32m    289\u001b[0m     \"\"\"\n\u001b[1;32m--> 290\u001b[1;33m     \u001b[0mcheck_consistent_length\u001b[0m\u001b[1;33m(\u001b[0m\u001b[0my_true\u001b[0m\u001b[1;33m,\u001b[0m \u001b[0my_score\u001b[0m\u001b[1;33m)\u001b[0m\u001b[1;33m\u001b[0m\u001b[0m\n\u001b[0m\u001b[0;32m    291\u001b[0m     \u001b[0my_true\u001b[0m \u001b[1;33m=\u001b[0m \u001b[0mcolumn_or_1d\u001b[0m\u001b[1;33m(\u001b[0m\u001b[0my_true\u001b[0m\u001b[1;33m)\u001b[0m\u001b[1;33m\u001b[0m\u001b[0m\n\u001b[0;32m    292\u001b[0m     \u001b[0my_score\u001b[0m \u001b[1;33m=\u001b[0m \u001b[0mcolumn_or_1d\u001b[0m\u001b[1;33m(\u001b[0m\u001b[0my_score\u001b[0m\u001b[1;33m)\u001b[0m\u001b[1;33m\u001b[0m\u001b[0m\n",
      "\u001b[1;32mC:\\Users\\Dharik\\Anaconda3\\lib\\site-packages\\sklearn\\utils\\validation.py\u001b[0m in \u001b[0;36mcheck_consistent_length\u001b[1;34m(*arrays)\u001b[0m\n\u001b[0;32m    174\u001b[0m     \u001b[1;32mif\u001b[0m \u001b[0mlen\u001b[0m\u001b[1;33m(\u001b[0m\u001b[0muniques\u001b[0m\u001b[1;33m)\u001b[0m \u001b[1;33m>\u001b[0m \u001b[1;36m1\u001b[0m\u001b[1;33m:\u001b[0m\u001b[1;33m\u001b[0m\u001b[0m\n\u001b[0;32m    175\u001b[0m         raise ValueError(\"Found arrays with inconsistent numbers of samples: \"\n\u001b[1;32m--> 176\u001b[1;33m                          \"%s\" % str(uniques))\n\u001b[0m\u001b[0;32m    177\u001b[0m \u001b[1;33m\u001b[0m\u001b[0m\n\u001b[0;32m    178\u001b[0m \u001b[1;33m\u001b[0m\u001b[0m\n",
      "\u001b[1;31mValueError\u001b[0m: Found arrays with inconsistent numbers of samples: [215734 323599]"
     ]
    }
   ],
   "source": [
    "false_positive_rate, true_positive_rate, thresholds = metrics.roc_curve(y_test, y_predict)\n",
    "roc_auc = auc(false_positive_rate, true_positive_rate)\n",
    "\n",
    "plt.title('Receiver Operating Characteristic')\n",
    "plt.plot(false_positive_rate, true_positive_rate, 'b',\n",
    "label='AUC = %0.2f'% roc_auc)\n",
    "plt.legend(loc='lower right')\n",
    "plt.plot([0,1],[0,1],'r--')\n",
    "plt.xlim([-0.1,1.2])\n",
    "plt.ylim([-0.1,1.2])\n",
    "plt.ylabel('True Positive Rate')\n",
    "plt.xlabel('False Positive Rate')\n",
    "plt.show()"
   ]
  },
  {
   "cell_type": "markdown",
   "metadata": {
    "collapsed": true
   },
   "source": [
    "# Logistic Regression"
   ]
  },
  {
   "cell_type": "code",
   "execution_count": null,
   "metadata": {
    "collapsed": false
   },
   "outputs": [],
   "source": [
    "from sklearn.linear_model import LogisticRegression\n",
    "import numpy as np\n",
    "model = LogisticRegression(penalty='l2', verbose=1, max_iter=50, solver='sag', n_jobs=-1)\n",
    "fit = model.fit(X_train, y_train)\n",
    "model.score(X_train, y_train)"
   ]
  },
  {
   "cell_type": "markdown",
   "metadata": {},
   "source": [
    "About the same result, need to see what the hits/misses/false hits were"
   ]
  },
  {
   "cell_type": "code",
   "execution_count": null,
   "metadata": {
    "collapsed": false
   },
   "outputs": [],
   "source": [
    "false_positive_rate"
   ]
  },
  {
   "cell_type": "code",
   "execution_count": null,
   "metadata": {
    "collapsed": false
   },
   "outputs": [],
   "source": [
    "true_positive_rate"
   ]
  },
  {
   "cell_type": "code",
   "execution_count": null,
   "metadata": {
    "collapsed": false
   },
   "outputs": [],
   "source": [
    "thresholds"
   ]
  },
  {
   "cell_type": "code",
   "execution_count": null,
   "metadata": {
    "collapsed": true
   },
   "outputs": [],
   "source": []
  }
 ],
 "metadata": {
  "kernelspec": {
   "display_name": "Python 3",
   "language": "python",
   "name": "python3"
  },
  "language_info": {
   "codemirror_mode": {
    "name": "ipython",
    "version": 3
   },
   "file_extension": ".py",
   "mimetype": "text/x-python",
   "name": "python",
   "nbconvert_exporter": "python",
   "pygments_lexer": "ipython3",
   "version": "3.5.1"
  }
 },
 "nbformat": 4,
 "nbformat_minor": 0
}

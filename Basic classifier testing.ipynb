{
 "cells": [
  {
   "cell_type": "code",
   "execution_count": 49,
   "metadata": {
    "collapsed": true
   },
   "outputs": [],
   "source": [
    "import pandas as pd\n",
    "from patsy import dmatrices\n",
    "import datetime\n",
    "import numpy as np\n",
    "from sklearn.cross_validation import train_test_split\n",
    "from sklearn.metrics import roc_curve, auc\n",
    "import matplotlib.pyplot as plt"
   ]
  },
  {
   "cell_type": "code",
   "execution_count": 50,
   "metadata": {
    "collapsed": true
   },
   "outputs": [],
   "source": [
    "loans = pd.read_pickle( 'C:\\lc data\\lc.pickle' )"
   ]
  },
  {
   "cell_type": "code",
   "execution_count": 51,
   "metadata": {
    "collapsed": false
   },
   "outputs": [],
   "source": [
    "loans.sub_grade = loans.sub_grade.astype('category')\n",
    "loans.home_ownership = loans.home_ownership.astype('category')\n",
    "loans['installment_over_inc'] = loans.installment / loans.annual_inc"
   ]
  },
  {
   "cell_type": "code",
   "execution_count": 52,
   "metadata": {
    "collapsed": false
   },
   "outputs": [],
   "source": [
    "newest = datetime.datetime.now() - datetime.timedelta( weeks=4*14 )\n",
    "oldest = datetime.datetime(2010,3,1)\n",
    "loans = loans[ (loans.issue_d > oldest) & (loans.issue_d < newest) ]"
   ]
  },
  {
   "cell_type": "code",
   "execution_count": 53,
   "metadata": {
    "collapsed": false
   },
   "outputs": [
    {
     "data": {
      "text/plain": [
       "Index(['member_id', 'loan_amnt', 'funded_amnt', 'funded_amnt_inv', 'term',\n",
       "       'int_rate', 'installment', 'grade', 'sub_grade', 'emp_title',\n",
       "       'emp_length', 'home_ownership', 'annual_inc', 'verification_status',\n",
       "       'issue_d', 'loan_status', 'pymnt_plan', 'desc', 'purpose', 'title',\n",
       "       'zip_code', 'addr_state', 'dti', 'delinq_2yrs', 'earliest_cr_line',\n",
       "       'fico_range_low', 'fico_range_high', 'inq_last_6mths',\n",
       "       'mths_since_last_delinq', 'mths_since_last_record', 'open_acc',\n",
       "       'pub_rec', 'revol_bal', 'revol_util', 'total_acc',\n",
       "       'initial_list_status', 'out_prncp', 'out_prncp_inv', 'total_pymnt',\n",
       "       'total_pymnt_inv', 'total_rec_prncp', 'total_rec_int',\n",
       "       'total_rec_late_fee', 'recoveries', 'collection_recovery_fee',\n",
       "       'last_pymnt_d', 'last_pymnt_amnt', 'next_pymnt_d', 'last_credit_pull_d',\n",
       "       'last_fico_range_high', 'last_fico_range_low',\n",
       "       'collections_12_mths_ex_med', 'mths_since_last_major_derog',\n",
       "       'annual_inc_joint', 'dti_joint', 'verification_status_joint',\n",
       "       'acc_now_delinq', 'tot_coll_amt', 'tot_cur_bal', 'open_acc_6m',\n",
       "       'open_il_6m', 'open_il_12m', 'open_il_24m', 'mths_since_rcnt_il',\n",
       "       'total_bal_il', 'il_util', 'open_rv_12m', 'open_rv_24m', 'max_bal_bc',\n",
       "       'all_util', 'total_rev_hi_lim', 'inq_fi', 'total_cu_tl', 'inq_last_12m',\n",
       "       'bad', 'installment_over_inc'],\n",
       "      dtype='object')"
      ]
     },
     "execution_count": 53,
     "metadata": {},
     "output_type": "execute_result"
    }
   ],
   "source": [
    "loans.columns"
   ]
  },
  {
   "cell_type": "code",
   "execution_count": 54,
   "metadata": {
    "collapsed": true
   },
   "outputs": [],
   "source": [
    "y, X = dmatrices('bad ~ + loan_amnt + int_rate + installment + emp_length +\\\n",
    "                 C(home_ownership)+ C(sub_grade) + C(purpose) + zip_code +\\\n",
    "                 revol_bal + revol_util+ total_acc + open_acc + dti + delinq_2yrs + fico_range_low + annual_inc + installment_over_inc',\n",
    "                 loans, return_type='dataframe')"
   ]
  },
  {
   "cell_type": "code",
   "execution_count": 55,
   "metadata": {
    "collapsed": false
   },
   "outputs": [
    {
     "data": {
      "text/plain": [
       "Index(['Intercept', 'C(home_ownership)[T.MORTGAGE]',\n",
       "       'C(home_ownership)[T.NONE]', 'C(home_ownership)[T.OTHER]',\n",
       "       'C(home_ownership)[T.OWN]', 'C(home_ownership)[T.RENT]',\n",
       "       'C(sub_grade)[T.A2]', 'C(sub_grade)[T.A3]', 'C(sub_grade)[T.A4]',\n",
       "       'C(sub_grade)[T.A5]', 'C(sub_grade)[T.B1]', 'C(sub_grade)[T.B2]',\n",
       "       'C(sub_grade)[T.B3]', 'C(sub_grade)[T.B4]', 'C(sub_grade)[T.B5]',\n",
       "       'C(sub_grade)[T.C1]', 'C(sub_grade)[T.C2]', 'C(sub_grade)[T.C3]',\n",
       "       'C(sub_grade)[T.C4]', 'C(sub_grade)[T.C5]', 'C(sub_grade)[T.D1]',\n",
       "       'C(sub_grade)[T.D2]', 'C(sub_grade)[T.D3]', 'C(sub_grade)[T.D4]',\n",
       "       'C(sub_grade)[T.D5]', 'C(sub_grade)[T.E1]', 'C(sub_grade)[T.E2]',\n",
       "       'C(sub_grade)[T.E3]', 'C(sub_grade)[T.E4]', 'C(sub_grade)[T.E5]',\n",
       "       'C(sub_grade)[T.F1]', 'C(sub_grade)[T.F2]', 'C(sub_grade)[T.F3]',\n",
       "       'C(sub_grade)[T.F4]', 'C(sub_grade)[T.F5]', 'C(sub_grade)[T.G1]',\n",
       "       'C(sub_grade)[T.G2]', 'C(sub_grade)[T.G3]', 'C(sub_grade)[T.G4]',\n",
       "       'C(sub_grade)[T.G5]', 'C(purpose)[T.credit_card]',\n",
       "       'C(purpose)[T.debt_consolidation]', 'C(purpose)[T.educational]',\n",
       "       'C(purpose)[T.home_improvement]', 'C(purpose)[T.house]',\n",
       "       'C(purpose)[T.major_purchase]', 'C(purpose)[T.medical]',\n",
       "       'C(purpose)[T.moving]', 'C(purpose)[T.other]',\n",
       "       'C(purpose)[T.renewable_energy]', 'C(purpose)[T.small_business]',\n",
       "       'C(purpose)[T.vacation]', 'C(purpose)[T.wedding]', 'loan_amnt',\n",
       "       'int_rate', 'installment', 'emp_length', 'zip_code', 'revol_bal',\n",
       "       'revol_util', 'total_acc', 'open_acc', 'dti', 'delinq_2yrs',\n",
       "       'fico_range_low', 'annual_inc', 'installment_over_inc'],\n",
       "      dtype='object')"
      ]
     },
     "execution_count": 55,
     "metadata": {},
     "output_type": "execute_result"
    }
   ],
   "source": [
    "X.columns"
   ]
  },
  {
   "cell_type": "code",
   "execution_count": 56,
   "metadata": {
    "collapsed": false
   },
   "outputs": [],
   "source": [
    "X_train, X_test, y_train, y_test = train_test_split(X, y, test_size=0.3, random_state=51)"
   ]
  },
  {
   "cell_type": "markdown",
   "metadata": {},
   "source": [
    "# Random forest"
   ]
  },
  {
   "cell_type": "code",
   "execution_count": 57,
   "metadata": {
    "collapsed": false
   },
   "outputs": [
    {
     "name": "stderr",
     "output_type": "stream",
     "text": [
      "[Parallel(n_jobs=-1)]: Done  25 out of  25 | elapsed:   16.2s finished\n",
      "[Parallel(n_jobs=4)]: Done  25 out of  25 | elapsed:    1.2s finished\n"
     ]
    },
    {
     "data": {
      "text/plain": [
       "0.99711914088381681"
      ]
     },
     "execution_count": 57,
     "metadata": {},
     "output_type": "execute_result"
    }
   ],
   "source": [
    "from sklearn.ensemble import RandomForestClassifier\n",
    "y_train = np.ravel(y_train)\n",
    "model = RandomForestClassifier( n_jobs=-1, verbose=1, n_estimators=25)\n",
    "fit = model.fit(X_train, y_train)\n",
    "model.score(X_train, y_train)"
   ]
  },
  {
   "cell_type": "code",
   "execution_count": 58,
   "metadata": {
    "collapsed": false
   },
   "outputs": [
    {
     "name": "stderr",
     "output_type": "stream",
     "text": [
      "[Parallel(n_jobs=4)]: Done  25 out of  25 | elapsed:    0.5s finished\n"
     ]
    },
    {
     "data": {
      "text/plain": [
       "0.88938085932668764"
      ]
     },
     "execution_count": 58,
     "metadata": {},
     "output_type": "execute_result"
    }
   ],
   "source": [
    "model.score(X_test, y_test)"
   ]
  },
  {
   "cell_type": "code",
   "execution_count": 59,
   "metadata": {
    "collapsed": false
   },
   "outputs": [
    {
     "name": "stderr",
     "output_type": "stream",
     "text": [
      "[Parallel(n_jobs=4)]: Done  25 out of  25 | elapsed:    0.5s finished\n"
     ]
    },
    {
     "data": {
      "text/plain": [
       "array([[ 0.76,  0.24],\n",
       "       [ 0.92,  0.08],\n",
       "       [ 1.  ,  0.  ],\n",
       "       ..., \n",
       "       [ 0.84,  0.16],\n",
       "       [ 0.92,  0.08],\n",
       "       [ 0.88,  0.12]])"
      ]
     },
     "execution_count": 59,
     "metadata": {},
     "output_type": "execute_result"
    }
   ],
   "source": [
    "y_predict = model.predict_proba(X_test)\n",
    "y_predict"
   ]
  },
  {
   "cell_type": "code",
   "execution_count": 60,
   "metadata": {
    "collapsed": false,
    "scrolled": false
   },
   "outputs": [
    {
     "data": {
      "text/html": [
       "<div>\n",
       "<table border=\"1\" class=\"dataframe\">\n",
       "  <thead>\n",
       "    <tr>\n",
       "      <th></th>\n",
       "      <th colspan=\"3\" halign=\"left\">bad</th>\n",
       "    </tr>\n",
       "    <tr>\n",
       "      <th></th>\n",
       "      <th>len</th>\n",
       "      <th>sum</th>\n",
       "      <th>mean</th>\n",
       "    </tr>\n",
       "    <tr>\n",
       "      <th>prob</th>\n",
       "      <th></th>\n",
       "      <th></th>\n",
       "      <th></th>\n",
       "    </tr>\n",
       "  </thead>\n",
       "  <tbody>\n",
       "    <tr>\n",
       "      <th>0.00</th>\n",
       "      <td>22491.0</td>\n",
       "      <td>1039.0</td>\n",
       "      <td>0.046196</td>\n",
       "    </tr>\n",
       "    <tr>\n",
       "      <th>0.04</th>\n",
       "      <td>30046.0</td>\n",
       "      <td>2126.0</td>\n",
       "      <td>0.070758</td>\n",
       "    </tr>\n",
       "    <tr>\n",
       "      <th>0.08</th>\n",
       "      <td>29072.0</td>\n",
       "      <td>2650.0</td>\n",
       "      <td>0.091153</td>\n",
       "    </tr>\n",
       "    <tr>\n",
       "      <th>0.12</th>\n",
       "      <td>24608.0</td>\n",
       "      <td>2796.0</td>\n",
       "      <td>0.113622</td>\n",
       "    </tr>\n",
       "    <tr>\n",
       "      <th>0.16</th>\n",
       "      <td>18915.0</td>\n",
       "      <td>2532.0</td>\n",
       "      <td>0.133862</td>\n",
       "    </tr>\n",
       "    <tr>\n",
       "      <th>0.20</th>\n",
       "      <td>13588.0</td>\n",
       "      <td>2124.0</td>\n",
       "      <td>0.156314</td>\n",
       "    </tr>\n",
       "    <tr>\n",
       "      <th>0.24</th>\n",
       "      <td>9235.0</td>\n",
       "      <td>1567.0</td>\n",
       "      <td>0.169681</td>\n",
       "    </tr>\n",
       "    <tr>\n",
       "      <th>0.28</th>\n",
       "      <td>6107.0</td>\n",
       "      <td>1211.0</td>\n",
       "      <td>0.198297</td>\n",
       "    </tr>\n",
       "    <tr>\n",
       "      <th>0.32</th>\n",
       "      <td>3570.0</td>\n",
       "      <td>748.0</td>\n",
       "      <td>0.209524</td>\n",
       "    </tr>\n",
       "    <tr>\n",
       "      <th>0.36</th>\n",
       "      <td>2042.0</td>\n",
       "      <td>484.0</td>\n",
       "      <td>0.237023</td>\n",
       "    </tr>\n",
       "    <tr>\n",
       "      <th>0.40</th>\n",
       "      <td>1082.0</td>\n",
       "      <td>263.0</td>\n",
       "      <td>0.243068</td>\n",
       "    </tr>\n",
       "    <tr>\n",
       "      <th>0.44</th>\n",
       "      <td>502.0</td>\n",
       "      <td>139.0</td>\n",
       "      <td>0.276892</td>\n",
       "    </tr>\n",
       "    <tr>\n",
       "      <th>0.48</th>\n",
       "      <td>243.0</td>\n",
       "      <td>54.0</td>\n",
       "      <td>0.222222</td>\n",
       "    </tr>\n",
       "    <tr>\n",
       "      <th>0.52</th>\n",
       "      <td>122.0</td>\n",
       "      <td>25.0</td>\n",
       "      <td>0.204918</td>\n",
       "    </tr>\n",
       "    <tr>\n",
       "      <th>0.56</th>\n",
       "      <td>52.0</td>\n",
       "      <td>16.0</td>\n",
       "      <td>0.307692</td>\n",
       "    </tr>\n",
       "    <tr>\n",
       "      <th>0.60</th>\n",
       "      <td>25.0</td>\n",
       "      <td>7.0</td>\n",
       "      <td>0.280000</td>\n",
       "    </tr>\n",
       "    <tr>\n",
       "      <th>0.64</th>\n",
       "      <td>6.0</td>\n",
       "      <td>4.0</td>\n",
       "      <td>0.666667</td>\n",
       "    </tr>\n",
       "    <tr>\n",
       "      <th>0.68</th>\n",
       "      <td>2.0</td>\n",
       "      <td>0.0</td>\n",
       "      <td>0.000000</td>\n",
       "    </tr>\n",
       "  </tbody>\n",
       "</table>\n",
       "</div>"
      ],
      "text/plain": [
       "          bad                  \n",
       "          len     sum      mean\n",
       "prob                           \n",
       "0.00  22491.0  1039.0  0.046196\n",
       "0.04  30046.0  2126.0  0.070758\n",
       "0.08  29072.0  2650.0  0.091153\n",
       "0.12  24608.0  2796.0  0.113622\n",
       "0.16  18915.0  2532.0  0.133862\n",
       "0.20  13588.0  2124.0  0.156314\n",
       "0.24   9235.0  1567.0  0.169681\n",
       "0.28   6107.0  1211.0  0.198297\n",
       "0.32   3570.0   748.0  0.209524\n",
       "0.36   2042.0   484.0  0.237023\n",
       "0.40   1082.0   263.0  0.243068\n",
       "0.44    502.0   139.0  0.276892\n",
       "0.48    243.0    54.0  0.222222\n",
       "0.52    122.0    25.0  0.204918\n",
       "0.56     52.0    16.0  0.307692\n",
       "0.60     25.0     7.0  0.280000\n",
       "0.64      6.0     4.0  0.666667\n",
       "0.68      2.0     0.0  0.000000"
      ]
     },
     "execution_count": 60,
     "metadata": {},
     "output_type": "execute_result"
    }
   ],
   "source": [
    "r = pd.DataFrame(pd.Series(y_predict.T[1], y_test))\n",
    "r.reset_index(inplace=True)\n",
    "r.columns = ['bad', 'prob']\n",
    "r.groupby('prob').agg([len, sum, np.mean ])"
   ]
  },
  {
   "cell_type": "code",
   "execution_count": 61,
   "metadata": {
    "collapsed": false
   },
   "outputs": [
    {
     "data": {
      "text/html": [
       "<div>\n",
       "<table border=\"1\" class=\"dataframe\">\n",
       "  <thead>\n",
       "    <tr style=\"text-align: right;\">\n",
       "      <th></th>\n",
       "      <th>bad</th>\n",
       "      <th>prob</th>\n",
       "    </tr>\n",
       "  </thead>\n",
       "  <tbody>\n",
       "    <tr>\n",
       "      <th>count</th>\n",
       "      <td>81609.000000</td>\n",
       "      <td>81609.000000</td>\n",
       "    </tr>\n",
       "    <tr>\n",
       "      <th>mean</th>\n",
       "      <td>0.071254</td>\n",
       "      <td>0.043226</td>\n",
       "    </tr>\n",
       "    <tr>\n",
       "      <th>std</th>\n",
       "      <td>0.257251</td>\n",
       "      <td>0.031631</td>\n",
       "    </tr>\n",
       "    <tr>\n",
       "      <th>min</th>\n",
       "      <td>0.000000</td>\n",
       "      <td>0.000000</td>\n",
       "    </tr>\n",
       "    <tr>\n",
       "      <th>25%</th>\n",
       "      <td>0.000000</td>\n",
       "      <td>0.000000</td>\n",
       "    </tr>\n",
       "    <tr>\n",
       "      <th>50%</th>\n",
       "      <td>0.000000</td>\n",
       "      <td>0.040000</td>\n",
       "    </tr>\n",
       "    <tr>\n",
       "      <th>75%</th>\n",
       "      <td>0.000000</td>\n",
       "      <td>0.080000</td>\n",
       "    </tr>\n",
       "    <tr>\n",
       "      <th>max</th>\n",
       "      <td>1.000000</td>\n",
       "      <td>0.080000</td>\n",
       "    </tr>\n",
       "  </tbody>\n",
       "</table>\n",
       "</div>"
      ],
      "text/plain": [
       "                bad          prob\n",
       "count  81609.000000  81609.000000\n",
       "mean       0.071254      0.043226\n",
       "std        0.257251      0.031631\n",
       "min        0.000000      0.000000\n",
       "25%        0.000000      0.000000\n",
       "50%        0.000000      0.040000\n",
       "75%        0.000000      0.080000\n",
       "max        1.000000      0.080000"
      ]
     },
     "execution_count": 61,
     "metadata": {},
     "output_type": "execute_result"
    }
   ],
   "source": [
    "r[r.prob <= .1].describe()"
   ]
  },
  {
   "cell_type": "code",
   "execution_count": 62,
   "metadata": {
    "collapsed": false
   },
   "outputs": [
    {
     "data": {
      "text/plain": [
       "[('installment_over_inc', 0.07949931815778663),\n",
       " ('revol_bal', 0.079206222400730969),\n",
       " ('dti', 0.078719596928310459),\n",
       " ('revol_util', 0.077974464535387117),\n",
       " ('zip_code', 0.075303940630520497),\n",
       " ('installment', 0.072854009577129147),\n",
       " ('int_rate', 0.072194392145975464),\n",
       " ('annual_inc', 0.067625349800669671),\n",
       " ('total_acc', 0.063821868606092791),\n",
       " ('loan_amnt', 0.060110958507397394),\n",
       " ('open_acc', 0.053384613566271222),\n",
       " ('fico_range_low', 0.047557348738037561),\n",
       " ('emp_length', 0.039863374226105551),\n",
       " ('delinq_2yrs', 0.015551206065798472),\n",
       " ('C(purpose)[T.debt_consolidation]', 0.009383723913835882),\n",
       " ('C(purpose)[T.credit_card]', 0.0062504135961279151),\n",
       " ('C(home_ownership)[T.MORTGAGE]', 0.0053837217965769235),\n",
       " ('C(home_ownership)[T.RENT]', 0.005228112240369732),\n",
       " ('C(home_ownership)[T.OWN]', 0.0046024905060849941),\n",
       " ('C(purpose)[T.other]', 0.0043886457454209967),\n",
       " ('C(purpose)[T.home_improvement]', 0.0039667493153114006),\n",
       " ('C(sub_grade)[T.C5]', 0.0035194216441997639),\n",
       " ('C(sub_grade)[T.C4]', 0.0034530025459849488),\n",
       " ('C(sub_grade)[T.C3]', 0.0034328159582667499),\n",
       " ('C(sub_grade)[T.D1]', 0.0034267215944059374),\n",
       " ('C(sub_grade)[T.C2]', 0.0031685295995150836),\n",
       " ('C(sub_grade)[T.D2]', 0.0031010356872244365),\n",
       " ('C(purpose)[T.small_business]', 0.0030797352273145857),\n",
       " ('C(sub_grade)[T.C1]', 0.0030514067368373741),\n",
       " ('C(sub_grade)[T.D3]', 0.002945059086369186),\n",
       " ('C(sub_grade)[T.B5]', 0.0029318527749865077),\n",
       " ('C(sub_grade)[T.D4]', 0.0027396396829547408),\n",
       " ('C(sub_grade)[T.B4]', 0.0027353332900337309),\n",
       " ('C(sub_grade)[T.D5]', 0.0026356553717057814),\n",
       " ('C(purpose)[T.major_purchase]', 0.002456261781119868),\n",
       " ('C(sub_grade)[T.B3]', 0.0022751789962610382),\n",
       " ('C(sub_grade)[T.E1]', 0.0022496892672449384),\n",
       " ('C(sub_grade)[T.E2]', 0.0021634304070013597),\n",
       " ('C(sub_grade)[T.E3]', 0.0019076496940281834),\n",
       " ('C(sub_grade)[T.B2]', 0.0018677281264727517),\n",
       " ('C(purpose)[T.medical]', 0.0018289368906988133),\n",
       " ('C(sub_grade)[T.E4]', 0.0017788341557552268),\n",
       " ('C(sub_grade)[T.E5]', 0.0016067872225645839),\n",
       " ('C(sub_grade)[T.B1]', 0.0014447483213696341),\n",
       " ('C(sub_grade)[T.F1]', 0.0014297126314919322),\n",
       " ('C(purpose)[T.moving]', 0.00140360756943982),\n",
       " ('C(sub_grade)[T.A5]', 0.0012975499204290928),\n",
       " ('C(sub_grade)[T.F2]', 0.0012135911626167295),\n",
       " ('C(sub_grade)[T.F3]', 0.0012036754873847374),\n",
       " ('C(sub_grade)[T.A4]', 0.0011706937114050104),\n",
       " ('C(purpose)[T.house]', 0.001163170225345326),\n",
       " ('C(sub_grade)[T.F4]', 0.0011293578047439027),\n",
       " ('C(purpose)[T.vacation]', 0.0011015062940587554),\n",
       " ('C(sub_grade)[T.F5]', 0.00099500321120148095),\n",
       " ('C(purpose)[T.wedding]', 0.00097225604018638862),\n",
       " ('C(sub_grade)[T.G1]', 0.00076943544494140616),\n",
       " ('C(sub_grade)[T.A3]', 0.00073878891693053767),\n",
       " ('C(sub_grade)[T.A2]', 0.00056825808316071191),\n",
       " ('C(sub_grade)[T.G2]', 0.0005439688997292498),\n",
       " ('C(sub_grade)[T.G3]', 0.00043348512558824103),\n",
       " ('C(purpose)[T.renewable_energy]', 0.00039976829218963333),\n",
       " ('C(sub_grade)[T.G4]', 0.00034008934913140008),\n",
       " ('C(sub_grade)[T.G5]', 0.00025394689720317375),\n",
       " ('C(home_ownership)[T.OTHER]', 7.6585485810333923e-05),\n",
       " ('C(home_ownership)[T.NONE]', 6.9010612942624423e-05),\n",
       " ('C(purpose)[T.educational]', 5.6563771813490018e-05),\n",
       " ('Intercept', 0.0)]"
      ]
     },
     "execution_count": 62,
     "metadata": {},
     "output_type": "execute_result"
    }
   ],
   "source": [
    "features = sorted(list(zip(X.columns, model.feature_importances_)), key=lambda x: x[1],\n",
    "      reverse=True)\n",
    "features[:100]"
   ]
  },
  {
   "cell_type": "markdown",
   "metadata": {
    "collapsed": true
   },
   "source": [
    "# Logistic Regression"
   ]
  },
  {
   "cell_type": "code",
   "execution_count": 63,
   "metadata": {
    "collapsed": false
   },
   "outputs": [
    {
     "name": "stdout",
     "output_type": "stream",
     "text": [
      "max_iter reached after 6 seconds\n"
     ]
    },
    {
     "name": "stderr",
     "output_type": "stream",
     "text": [
      "C:\\Users\\Dharik\\Anaconda3\\lib\\site-packages\\sklearn\\linear_model\\sag.py:267: ConvergenceWarning: The max_iter was reached which means the coef_ did not converge\n",
      "  \"the coef_ did not converge\", ConvergenceWarning)\n",
      "[Parallel(n_jobs=-1)]: Done   1 out of   1 | elapsed:    5.2s finished\n"
     ]
    },
    {
     "data": {
      "text/plain": [
       "0.89261047710419328"
      ]
     },
     "execution_count": 63,
     "metadata": {},
     "output_type": "execute_result"
    }
   ],
   "source": [
    "from sklearn.linear_model import LogisticRegression\n",
    "import numpy as np\n",
    "model = LogisticRegression(penalty='l2', verbose=1, max_iter=20, solver='sag', n_jobs=-1)\n",
    "fit = model.fit(X_train, y_train)\n",
    "model.score(X_train, y_train)"
   ]
  },
  {
   "cell_type": "markdown",
   "metadata": {},
   "source": [
    "About the same result, need to see what the hits/misses/false hits were"
   ]
  }
 ],
 "metadata": {
  "kernelspec": {
   "display_name": "Python 3",
   "language": "python",
   "name": "python3"
  },
  "language_info": {
   "codemirror_mode": {
    "name": "ipython",
    "version": 3
   },
   "file_extension": ".py",
   "mimetype": "text/x-python",
   "name": "python",
   "nbconvert_exporter": "python",
   "pygments_lexer": "ipython3",
   "version": "3.5.1"
  }
 },
 "nbformat": 4,
 "nbformat_minor": 0
}

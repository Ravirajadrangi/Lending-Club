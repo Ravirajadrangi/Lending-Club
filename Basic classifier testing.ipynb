{
 "cells": [
  {
   "cell_type": "code",
   "execution_count": 34,
   "metadata": {
    "collapsed": true
   },
   "outputs": [],
   "source": [
    "import pandas as pd\n",
    "from patsy import dmatrices\n",
    "import datetime\n",
    "import numpy as np\n",
    "from sklearn.cross_validation import train_test_split\n",
    "import sklearn.metrics\n",
    "import matplotlib.pyplot as plt"
   ]
  },
  {
   "cell_type": "code",
   "execution_count": 35,
   "metadata": {
    "collapsed": true
   },
   "outputs": [],
   "source": [
    "loans = pd.read_pickle( 'C:\\lc data\\lc.pickle' )"
   ]
  },
  {
   "cell_type": "code",
   "execution_count": 36,
   "metadata": {
    "collapsed": false
   },
   "outputs": [],
   "source": [
    "loans.sub_grade = loans.sub_grade.astype('category')\n",
    "loans.home_ownership = loans.home_ownership.astype('category')\n",
    "loans['installment_over_inc'] = loans.installment / loans.annual_inc"
   ]
  },
  {
   "cell_type": "code",
   "execution_count": 37,
   "metadata": {
    "collapsed": false
   },
   "outputs": [],
   "source": [
    "newest = datetime.datetime.now() - datetime.timedelta( weeks=4*14 )\n",
    "oldest = datetime.datetime(2010,3,1)\n",
    "loans = loans[ (loans.issue_d > oldest) & (loans.issue_d < newest) ]"
   ]
  },
  {
   "cell_type": "code",
   "execution_count": 38,
   "metadata": {
    "collapsed": false
   },
   "outputs": [
    {
     "data": {
      "text/plain": [
       "Index(['member_id', 'loan_amnt', 'funded_amnt', 'funded_amnt_inv', 'term',\n",
       "       'int_rate', 'installment', 'grade', 'sub_grade', 'emp_title',\n",
       "       'emp_length', 'home_ownership', 'annual_inc', 'verification_status',\n",
       "       'issue_d', 'loan_status', 'pymnt_plan', 'desc', 'purpose', 'title',\n",
       "       'zip_code', 'addr_state', 'dti', 'delinq_2yrs', 'earliest_cr_line',\n",
       "       'fico_range_low', 'fico_range_high', 'inq_last_6mths',\n",
       "       'mths_since_last_delinq', 'mths_since_last_record', 'open_acc',\n",
       "       'pub_rec', 'revol_bal', 'revol_util', 'total_acc',\n",
       "       'initial_list_status', 'out_prncp', 'out_prncp_inv', 'total_pymnt',\n",
       "       'total_pymnt_inv', 'total_rec_prncp', 'total_rec_int',\n",
       "       'total_rec_late_fee', 'recoveries', 'collection_recovery_fee',\n",
       "       'last_pymnt_d', 'last_pymnt_amnt', 'next_pymnt_d', 'last_credit_pull_d',\n",
       "       'last_fico_range_high', 'last_fico_range_low',\n",
       "       'collections_12_mths_ex_med', 'mths_since_last_major_derog',\n",
       "       'annual_inc_joint', 'dti_joint', 'verification_status_joint',\n",
       "       'acc_now_delinq', 'tot_coll_amt', 'tot_cur_bal', 'open_acc_6m',\n",
       "       'open_il_6m', 'open_il_12m', 'open_il_24m', 'mths_since_rcnt_il',\n",
       "       'total_bal_il', 'il_util', 'open_rv_12m', 'open_rv_24m', 'max_bal_bc',\n",
       "       'all_util', 'total_rev_hi_lim', 'inq_fi', 'total_cu_tl', 'inq_last_12m',\n",
       "       'bad', 'installment_over_inc'],\n",
       "      dtype='object')"
      ]
     },
     "execution_count": 38,
     "metadata": {},
     "output_type": "execute_result"
    }
   ],
   "source": [
    "loans.columns"
   ]
  },
  {
   "cell_type": "code",
   "execution_count": 39,
   "metadata": {
    "collapsed": true
   },
   "outputs": [],
   "source": [
    "y, X = dmatrices('bad ~ + loan_amnt + int_rate + installment + emp_length +\\\n",
    "                 C(home_ownership)+ C(grade) + C(purpose) + zip_code +\\\n",
    "                 revol_bal + revol_util+ total_acc + open_acc + dti + delinq_2yrs + fico_range_low + annual_inc + installment_over_inc',\n",
    "                 loans, return_type='dataframe')"
   ]
  },
  {
   "cell_type": "code",
   "execution_count": 40,
   "metadata": {
    "collapsed": false
   },
   "outputs": [
    {
     "data": {
      "text/plain": [
       "Index(['Intercept', 'C(home_ownership)[T.MORTGAGE]',\n",
       "       'C(home_ownership)[T.NONE]', 'C(home_ownership)[T.OTHER]',\n",
       "       'C(home_ownership)[T.OWN]', 'C(home_ownership)[T.RENT]',\n",
       "       'C(grade)[T.B]', 'C(grade)[T.C]', 'C(grade)[T.D]', 'C(grade)[T.E]',\n",
       "       'C(grade)[T.F]', 'C(grade)[T.G]', 'C(purpose)[T.credit_card]',\n",
       "       'C(purpose)[T.debt_consolidation]', 'C(purpose)[T.educational]',\n",
       "       'C(purpose)[T.home_improvement]', 'C(purpose)[T.house]',\n",
       "       'C(purpose)[T.major_purchase]', 'C(purpose)[T.medical]',\n",
       "       'C(purpose)[T.moving]', 'C(purpose)[T.other]',\n",
       "       'C(purpose)[T.renewable_energy]', 'C(purpose)[T.small_business]',\n",
       "       'C(purpose)[T.vacation]', 'C(purpose)[T.wedding]', 'loan_amnt',\n",
       "       'int_rate', 'installment', 'emp_length', 'zip_code', 'revol_bal',\n",
       "       'revol_util', 'total_acc', 'open_acc', 'dti', 'delinq_2yrs',\n",
       "       'fico_range_low', 'annual_inc', 'installment_over_inc'],\n",
       "      dtype='object')"
      ]
     },
     "execution_count": 40,
     "metadata": {},
     "output_type": "execute_result"
    }
   ],
   "source": [
    "X.columns"
   ]
  },
  {
   "cell_type": "code",
   "execution_count": 41,
   "metadata": {
    "collapsed": false
   },
   "outputs": [],
   "source": [
    "X_train, X_test, y_train, y_test = train_test_split(X, y, test_size=0.3, random_state=51)"
   ]
  },
  {
   "cell_type": "markdown",
   "metadata": {},
   "source": [
    "# Random forest"
   ]
  },
  {
   "cell_type": "code",
   "execution_count": 42,
   "metadata": {
    "collapsed": false
   },
   "outputs": [],
   "source": [
    "from sklearn.ensemble import RandomForestClassifier"
   ]
  },
  {
   "cell_type": "code",
   "execution_count": 53,
   "metadata": {
    "collapsed": true
   },
   "outputs": [],
   "source": [
    "y_train = np.ravel(y_train)"
   ]
  },
  {
   "cell_type": "code",
   "execution_count": 178,
   "metadata": {
    "collapsed": false
   },
   "outputs": [],
   "source": [
    "clf_grid = RandomForestClassifier( n_jobs=-1 )\n",
    "clf = RandomForestClassifier( n_jobs=-1, class_weight={1.0: .99, 0.0:.01})"
   ]
  },
  {
   "cell_type": "markdown",
   "metadata": {},
   "source": [
    "### Default model"
   ]
  },
  {
   "cell_type": "code",
   "execution_count": 179,
   "metadata": {
    "collapsed": false,
    "scrolled": true
   },
   "outputs": [
    {
     "data": {
      "text/plain": [
       "RandomForestClassifier(bootstrap=True, class_weight={0.0: 0.01, 1.0: 0.99},\n",
       "            criterion='gini', max_depth=None, max_features='auto',\n",
       "            max_leaf_nodes=None, min_samples_leaf=1, min_samples_split=2,\n",
       "            min_weight_fraction_leaf=0.0, n_estimators=10, n_jobs=-1,\n",
       "            oob_score=False, random_state=None, verbose=0,\n",
       "            warm_start=False)"
      ]
     },
     "execution_count": 179,
     "metadata": {},
     "output_type": "execute_result"
    }
   ],
   "source": [
    "clf.fit(X_train, y_train)"
   ]
  },
  {
   "cell_type": "code",
   "execution_count": 180,
   "metadata": {
    "collapsed": false,
    "scrolled": false
   },
   "outputs": [
    {
     "name": "stdout",
     "output_type": "stream",
     "text": [
      "             precision    recall  f1-score   support\n",
      "\n",
      "        0.0      0.913     0.999     0.954    204074\n",
      "        1.0      0.212     0.004     0.008     19503\n",
      "\n",
      "avg / total      0.852     0.912     0.871    223577\n",
      "\n"
     ]
    }
   ],
   "source": [
    "y_predict = clf.predict(X_test)\n",
    "print(sklearn.metrics.classification_report(y_test, y_predict, digits=3))"
   ]
  },
  {
   "cell_type": "markdown",
   "metadata": {},
   "source": [
    "### Grid Search"
   ]
  },
  {
   "cell_type": "code",
   "execution_count": 106,
   "metadata": {
    "collapsed": false
   },
   "outputs": [],
   "source": [
    "param_grid = {\"max_depth\": [3,9, None],\n",
    "              \"max_features\": [10, 15, None],\n",
    "              \"bootstrap\": [True, False],\n",
    "}\n",
    "\n",
    "# run grid search\n",
    "grid_search = sklearn.grid_search.GridSearchCV(clf_grid, param_grid=param_grid)"
   ]
  },
  {
   "cell_type": "code",
   "execution_count": 107,
   "metadata": {
    "collapsed": false
   },
   "outputs": [
    {
     "data": {
      "text/plain": [
       "GridSearchCV(cv=None, error_score='raise',\n",
       "       estimator=RandomForestClassifier(bootstrap=True, class_weight=None, criterion='gini',\n",
       "            max_depth=None, max_features='auto', max_leaf_nodes=None,\n",
       "            min_samples_leaf=1, min_samples_split=2,\n",
       "            min_weight_fraction_leaf=0.0, n_estimators=10, n_jobs=-1,\n",
       "            oob_score=False, random_state=None, verbose=0,\n",
       "            warm_start=False),\n",
       "       fit_params={}, iid=True, n_jobs=1,\n",
       "       param_grid={'bootstrap': [True, False], 'max_features': [10, 15, None], 'max_depth': [3, 9, None]},\n",
       "       pre_dispatch='2*n_jobs', refit=True, scoring=None, verbose=0)"
      ]
     },
     "execution_count": 107,
     "metadata": {},
     "output_type": "execute_result"
    }
   ],
   "source": [
    "grid_search.fit(X_train, y_train)"
   ]
  },
  {
   "cell_type": "code",
   "execution_count": 108,
   "metadata": {
    "collapsed": false
   },
   "outputs": [
    {
     "data": {
      "text/plain": [
       "{'bootstrap': True, 'max_depth': 3, 'max_features': 10}"
      ]
     },
     "execution_count": 108,
     "metadata": {},
     "output_type": "execute_result"
    }
   ],
   "source": [
    "grid_search.best_params_"
   ]
  },
  {
   "cell_type": "code",
   "execution_count": 109,
   "metadata": {
    "collapsed": false
   },
   "outputs": [
    {
     "data": {
      "text/plain": [
       "[mean: 0.91367, std: 0.00000, params: {'bootstrap': True, 'max_features': 10, 'max_depth': 3},\n",
       " mean: 0.91367, std: 0.00000, params: {'bootstrap': True, 'max_features': 15, 'max_depth': 3},\n",
       " mean: 0.91367, std: 0.00000, params: {'bootstrap': True, 'max_features': None, 'max_depth': 3},\n",
       " mean: 0.91366, std: 0.00000, params: {'bootstrap': True, 'max_features': 10, 'max_depth': 9},\n",
       " mean: 0.91366, std: 0.00001, params: {'bootstrap': True, 'max_features': 15, 'max_depth': 9},\n",
       " mean: 0.91360, std: 0.00003, params: {'bootstrap': True, 'max_features': None, 'max_depth': 9},\n",
       " mean: 0.91186, std: 0.00004, params: {'bootstrap': True, 'max_features': 10, 'max_depth': None},\n",
       " mean: 0.91130, std: 0.00007, params: {'bootstrap': True, 'max_features': 15, 'max_depth': None},\n",
       " mean: 0.91027, std: 0.00013, params: {'bootstrap': True, 'max_features': None, 'max_depth': None},\n",
       " mean: 0.91367, std: 0.00000, params: {'bootstrap': False, 'max_features': 10, 'max_depth': 3},\n",
       " mean: 0.91367, std: 0.00000, params: {'bootstrap': False, 'max_features': 15, 'max_depth': 3},\n",
       " mean: 0.91367, std: 0.00000, params: {'bootstrap': False, 'max_features': None, 'max_depth': 3},\n",
       " mean: 0.91367, std: 0.00000, params: {'bootstrap': False, 'max_features': 10, 'max_depth': 9},\n",
       " mean: 0.91364, std: 0.00002, params: {'bootstrap': False, 'max_features': 15, 'max_depth': 9},\n",
       " mean: 0.91264, std: 0.00009, params: {'bootstrap': False, 'max_features': None, 'max_depth': 9},\n",
       " mean: 0.91120, std: 0.00009, params: {'bootstrap': False, 'max_features': 10, 'max_depth': None},\n",
       " mean: 0.91050, std: 0.00016, params: {'bootstrap': False, 'max_features': 15, 'max_depth': None},\n",
       " mean: 0.84659, std: 0.00061, params: {'bootstrap': False, 'max_features': None, 'max_depth': None}]"
      ]
     },
     "execution_count": 109,
     "metadata": {},
     "output_type": "execute_result"
    }
   ],
   "source": [
    "grid_search.grid_scores_"
   ]
  },
  {
   "cell_type": "code",
   "execution_count": 110,
   "metadata": {
    "collapsed": false,
    "scrolled": true
   },
   "outputs": [
    {
     "name": "stdout",
     "output_type": "stream",
     "text": [
      "             precision    recall  f1-score   support\n",
      "\n",
      "        0.0       0.91      1.00      0.95    204074\n",
      "        1.0       0.00      0.00      0.00     19503\n",
      "\n",
      "avg / total       0.83      0.91      0.87    223577\n",
      "\n"
     ]
    },
    {
     "name": "stderr",
     "output_type": "stream",
     "text": [
      "C:\\Users\\Dharik\\Anaconda3\\lib\\site-packages\\sklearn\\metrics\\classification.py:1074: UndefinedMetricWarning: Precision and F-score are ill-defined and being set to 0.0 in labels with no predicted samples.\n",
      "  'precision', 'predicted', average, warn_for)\n"
     ]
    }
   ],
   "source": [
    "y_predict = grid_search.predict(X_test)\n",
    "print(sklearn.metrics.classification_report(y_test, y_predict))"
   ]
  },
  {
   "cell_type": "markdown",
   "metadata": {},
   "source": [
    "Random forest by itself didn't do well at all for finding bad loans\n",
    "\n",
    "Then after using grid search, the model just predicts all 0's.  Predicting 0's is apparently safer than trying to mark bad loans. Maybe I need a way to not penalize false positives as much. It's better to have a loan that's more likely to be a safe one"
   ]
  },
  {
   "cell_type": "markdown",
   "metadata": {},
   "source": [
    "Feature weights from the Random Forest Classifier"
   ]
  },
  {
   "cell_type": "code",
   "execution_count": 111,
   "metadata": {
    "collapsed": false
   },
   "outputs": [
    {
     "data": {
      "text/plain": [
       "[('revol_bal', 0.085271510614202933),\n",
       " ('installment_over_inc', 0.084734552790032169),\n",
       " ('dti', 0.084438152246624557),\n",
       " ('revol_util', 0.081596574659161134),\n",
       " ('zip_code', 0.080482910476034467),\n",
       " ('int_rate', 0.079466822412024546),\n",
       " ('installment', 0.076943626964798645),\n",
       " ('annual_inc', 0.070355958700014237),\n",
       " ('total_acc', 0.065253107583653089),\n",
       " ('loan_amnt', 0.06249826916714768),\n",
       " ('open_acc', 0.055051927028193705),\n",
       " ('fico_range_low', 0.04959524328557275),\n",
       " ('emp_length', 0.039176557339598808),\n",
       " ('delinq_2yrs', 0.016949855398056091),\n",
       " ('C(purpose)[T.debt_consolidation]', 0.0086238885458722291),\n",
       " ('C(home_ownership)[T.RENT]', 0.0056941410301401965),\n",
       " ('C(purpose)[T.credit_card]', 0.0054413257929738206),\n",
       " ('C(home_ownership)[T.MORTGAGE]', 0.0053887980340395136),\n",
       " ('C(home_ownership)[T.OWN]', 0.0047349336431846915),\n",
       " ('C(purpose)[T.other]', 0.0042223437790892843),\n",
       " ('C(purpose)[T.home_improvement]', 0.0041733147176340069),\n",
       " ('C(grade)[T.E]', 0.003977486797407075),\n",
       " ('C(grade)[T.D]', 0.0037878307639233346),\n",
       " ('C(grade)[T.F]', 0.0030947584283304791),\n",
       " ('C(grade)[T.C]', 0.0028993099799267778),\n",
       " ('C(purpose)[T.small_business]', 0.0027259069172279795),\n",
       " ('C(purpose)[T.major_purchase]', 0.0024761186156689874),\n",
       " ('C(grade)[T.B]', 0.0022979580823009344),\n",
       " ('C(purpose)[T.medical]', 0.0019616462991564982),\n",
       " ('C(purpose)[T.moving]', 0.0014555504670141835),\n",
       " ('C(purpose)[T.house]', 0.001299763176120267),\n",
       " ('C(purpose)[T.vacation]', 0.0011811450424751009),\n",
       " ('C(grade)[T.G]', 0.0011625902904212585),\n",
       " ('C(purpose)[T.wedding]', 0.00096534842668606537),\n",
       " ('C(purpose)[T.renewable_energy]', 0.00031927612846651185),\n",
       " ('C(purpose)[T.educational]', 0.0001334407861883933),\n",
       " ('C(home_ownership)[T.OTHER]', 9.8014889454876329e-05),\n",
       " ('C(home_ownership)[T.NONE]', 7.0040701182699197e-05),\n",
       " ('Intercept', 0.0)]"
      ]
     },
     "execution_count": 111,
     "metadata": {},
     "output_type": "execute_result"
    }
   ],
   "source": [
    "features = sorted(list(zip(X.columns, model.feature_importances_)), key=lambda x: x[1],\n",
    "      reverse=True)\n",
    "features[:100]"
   ]
  },
  {
   "cell_type": "markdown",
   "metadata": {
    "collapsed": true
   },
   "source": [
    "# Logistic Regression"
   ]
  },
  {
   "cell_type": "code",
   "execution_count": 63,
   "metadata": {
    "collapsed": false,
    "scrolled": true
   },
   "outputs": [
    {
     "name": "stdout",
     "output_type": "stream",
     "text": [
      "max_iter reached after 6 seconds\n"
     ]
    },
    {
     "name": "stderr",
     "output_type": "stream",
     "text": [
      "C:\\Users\\Dharik\\Anaconda3\\lib\\site-packages\\sklearn\\linear_model\\sag.py:267: ConvergenceWarning: The max_iter was reached which means the coef_ did not converge\n",
      "  \"the coef_ did not converge\", ConvergenceWarning)\n",
      "[Parallel(n_jobs=-1)]: Done   1 out of   1 | elapsed:    5.2s finished\n"
     ]
    },
    {
     "data": {
      "text/plain": [
       "0.89261047710419328"
      ]
     },
     "execution_count": 63,
     "metadata": {},
     "output_type": "execute_result"
    }
   ],
   "source": [
    "from sklearn.linear_model import LogisticRegression\n",
    "import numpy as np\n",
    "model = LogisticRegression(penalty='l2', verbose=1, max_iter=20, solver='sag', n_jobs=-1)\n",
    "fit = model.fit(X_train, y_train)\n",
    "model.score(X_train, y_train)"
   ]
  },
  {
   "cell_type": "markdown",
   "metadata": {},
   "source": [
    "About the same result, need to see what the hits/misses/false hits were"
   ]
  }
 ],
 "metadata": {
  "kernelspec": {
   "display_name": "Python 3",
   "language": "python",
   "name": "python3"
  },
  "language_info": {
   "codemirror_mode": {
    "name": "ipython",
    "version": 3
   },
   "file_extension": ".py",
   "mimetype": "text/x-python",
   "name": "python",
   "nbconvert_exporter": "python",
   "pygments_lexer": "ipython3",
   "version": "3.5.1"
  }
 },
 "nbformat": 4,
 "nbformat_minor": 0
}

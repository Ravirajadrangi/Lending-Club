{
 "cells": [
  {
   "cell_type": "code",
   "execution_count": 9,
   "metadata": {
    "collapsed": false
   },
   "outputs": [],
   "source": [
    "import pandas as pd\n",
    "import datetime\n",
    "import numpy as np\n",
    "\n",
    "%matplotlib inline\n",
    "import matplotlib\n",
    "matplotlib.style.use('ggplot')"
   ]
  },
  {
   "cell_type": "markdown",
   "metadata": {},
   "source": [
    "## Load previous data"
   ]
  },
  {
   "cell_type": "code",
   "execution_count": 10,
   "metadata": {
    "collapsed": true
   },
   "outputs": [],
   "source": [
    "loans = pd.read_pickle( 'C:\\lc data\\lc.pickle' )"
   ]
  },
  {
   "cell_type": "markdown",
   "metadata": {},
   "source": [
    "## Look at loans with at least 14 months of history\n",
    "The probability of loans going bad is highest in the first 14ish months, so I'm only going to look at loans with at least that much history"
   ]
  },
  {
   "cell_type": "code",
   "execution_count": 11,
   "metadata": {
    "collapsed": true
   },
   "outputs": [],
   "source": [
    "newest = datetime.datetime.now() - datetime.timedelta( weeks=4*14 )\n",
    "oldest = datetime.datetime(2010,3,1)\n",
    "loans = loans[ (loans.issue_d > oldest) & (loans.issue_d < newest) ]"
   ]
  },
  {
   "cell_type": "code",
   "execution_count": 12,
   "metadata": {
    "collapsed": false
   },
   "outputs": [],
   "source": [
    "byzip = loans[['zip_code', 'bad']].groupby('zip_code').agg( [sum, len, lambda x: sum(x)/len(x)] )"
   ]
  },
  {
   "cell_type": "markdown",
   "metadata": {},
   "source": [
    "### TODO\n",
    "Add some kind of lookup to translate the zip code to a city or area"
   ]
  },
  {
   "cell_type": "markdown",
   "metadata": {},
   "source": [
    "I filtered by zip codes with at least 50 loans issued so there are enough data points (in my mind)"
   ]
  },
  {
   "cell_type": "code",
   "execution_count": 13,
   "metadata": {
    "collapsed": false
   },
   "outputs": [
    {
     "name": "stdout",
     "output_type": "stream",
     "text": [
      "            sum  len  <lambda>\n",
      "zip_code                      \n",
      "23700      27.0  130  0.207692\n",
      "63800      21.0  102  0.205882\n",
      "12600      27.0  132  0.204545\n",
      "74500      14.0   76  0.184211\n",
      "79200      11.0   61  0.180328\n",
      "36300      64.0  356  0.179775\n",
      "11800      25.0  142  0.176056\n",
      "74600      10.0   57  0.175439\n",
      "88100      20.0  116  0.172414\n",
      "24200      34.0  207  0.164251\n",
      "35900      45.0  274  0.164234\n",
      "42500      10.0   61  0.163934\n",
      "23800     106.0  653  0.162328\n",
      "18500      31.0  191  0.162304\n",
      "13200      68.0  419  0.162291\n",
      "36000      75.0  463  0.161987\n",
      "17800      38.0  236  0.161017\n",
      "11600      38.0  236  0.161017\n",
      "73700      17.0  107  0.158879\n",
      "23900      17.0  107  0.158879\n",
      "24300      30.0  189  0.158730\n",
      "1100       39.0  246  0.158537\n",
      "2500       33.0  209  0.157895\n",
      "64700      22.0  140  0.157143\n",
      "8200       83.0  529  0.156900\n",
      "15900      28.0  179  0.156425\n",
      "13500      17.0  109  0.155963\n",
      "19600      48.0  308  0.155844\n",
      "13900      15.0   97  0.154639\n",
      "17700      28.0  182  0.153846\n",
      "14300      19.0  124  0.153226\n",
      "57300      13.0   85  0.152941\n",
      "56100      18.0  118  0.152542\n",
      "43800      10.0   66  0.151515\n",
      "70300      68.0  449  0.151448\n",
      "91200      77.0  512  0.150391\n",
      "66800      12.0   80  0.150000\n",
      "34400      91.0  607  0.149918\n",
      "26700      10.0   67  0.149254\n",
      "78300      32.0  215  0.148837\n",
      "7500       50.0  337  0.148368\n",
      "21500      20.0  135  0.148148\n",
      "40700      12.0   81  0.148148\n",
      "36100      48.0  325  0.147692\n",
      "16900       9.0   61  0.147541\n",
      "74900      14.0   95  0.147368\n",
      "45600      57.0  387  0.147287\n",
      "36200      35.0  239  0.146444\n",
      "16300      24.0  164  0.146341\n",
      "48200     121.0  827  0.146312\n"
     ]
    }
   ],
   "source": [
    "print( byzip.bad[ byzip.bad.len > 50 ].sort_values('<lambda>', ascending=False)[:50] )"
   ]
  },
  {
   "cell_type": "markdown",
   "metadata": {},
   "source": [
    "I wonder what the average bad loan ratio is for everywhere"
   ]
  },
  {
   "cell_type": "code",
   "execution_count": 15,
   "metadata": {
    "collapsed": false,
    "scrolled": true
   },
   "outputs": [
    {
     "data": {
      "text/plain": [
       "count    774.000000\n",
       "mean       0.108291\n",
       "std        0.025026\n",
       "min        0.031496\n",
       "25%        0.093327\n",
       "50%        0.107942\n",
       "75%        0.123811\n",
       "max        0.207692\n",
       "Name: <lambda>, dtype: float64"
      ]
     },
     "execution_count": 15,
     "metadata": {},
     "output_type": "execute_result"
    }
   ],
   "source": [
    "byzip.bad[ byzip.bad.len > 50 ]['<lambda>'].describe()"
   ]
  },
  {
   "cell_type": "markdown",
   "metadata": {},
   "source": [
    "Looks like on average only 10% of loans are marked bad. So the zip codes with 15+% bad seem riskier. I'm sure there's more digging that can be done but I'll stop here for now"
   ]
  },
  {
   "cell_type": "code",
   "execution_count": null,
   "metadata": {
    "collapsed": true
   },
   "outputs": [],
   "source": []
  }
 ],
 "metadata": {
  "kernelspec": {
   "display_name": "Python 3",
   "language": "python",
   "name": "python3"
  },
  "language_info": {
   "codemirror_mode": {
    "name": "ipython",
    "version": 3
   },
   "file_extension": ".py",
   "mimetype": "text/x-python",
   "name": "python",
   "nbconvert_exporter": "python",
   "pygments_lexer": "ipython3",
   "version": "3.5.1"
  }
 },
 "nbformat": 4,
 "nbformat_minor": 0
}

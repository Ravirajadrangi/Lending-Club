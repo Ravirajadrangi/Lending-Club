{
 "cells": [
  {
   "cell_type": "code",
   "execution_count": 27,
   "metadata": {
    "collapsed": true
   },
   "outputs": [],
   "source": [
    "import pandas as pd\n",
    "import matplotlib.pyplot as plt\n",
    "plt.rcParams['figure.figsize'] = (20.0, 10.0)\n",
    "%matplotlib inline\n",
    "\n",
    "loans = pd.read_pickle( 'C:\\lc data\\lc.pickle' )"
   ]
  },
  {
   "cell_type": "markdown",
   "metadata": {},
   "source": [
    "Looking at all charged off loans, but can also look at only 3-year or 5-year loans.  Data looks similar"
   ]
  },
  {
   "cell_type": "code",
   "execution_count": 28,
   "metadata": {
    "collapsed": false
   },
   "outputs": [
    {
     "data": {
      "text/html": [
       "<div>\n",
       "<table border=\"1\" class=\"dataframe\">\n",
       "  <thead>\n",
       "    <tr style=\"text-align: right;\">\n",
       "      <th></th>\n",
       "      <th>issue_d</th>\n",
       "      <th>last_pymnt_d</th>\n",
       "    </tr>\n",
       "    <tr>\n",
       "      <th>id</th>\n",
       "      <th></th>\n",
       "      <th></th>\n",
       "    </tr>\n",
       "  </thead>\n",
       "  <tbody>\n",
       "    <tr>\n",
       "      <th>1077430</th>\n",
       "      <td>2011-12-01</td>\n",
       "      <td>2013-04-01</td>\n",
       "    </tr>\n",
       "    <tr>\n",
       "      <th>1071795</th>\n",
       "      <td>2011-12-01</td>\n",
       "      <td>2012-04-01</td>\n",
       "    </tr>\n",
       "    <tr>\n",
       "      <th>1071570</th>\n",
       "      <td>2011-12-01</td>\n",
       "      <td>2012-11-01</td>\n",
       "    </tr>\n",
       "    <tr>\n",
       "      <th>1064687</th>\n",
       "      <td>2011-12-01</td>\n",
       "      <td>2012-07-01</td>\n",
       "    </tr>\n",
       "    <tr>\n",
       "      <th>1069057</th>\n",
       "      <td>2011-12-01</td>\n",
       "      <td>2013-10-01</td>\n",
       "    </tr>\n",
       "  </tbody>\n",
       "</table>\n",
       "</div>"
      ],
      "text/plain": [
       "           issue_d last_pymnt_d\n",
       "id                             \n",
       "1077430 2011-12-01   2013-04-01\n",
       "1071795 2011-12-01   2012-04-01\n",
       "1071570 2011-12-01   2012-11-01\n",
       "1064687 2011-12-01   2012-07-01\n",
       "1069057 2011-12-01   2013-10-01"
      ]
     },
     "execution_count": 28,
     "metadata": {},
     "output_type": "execute_result"
    }
   ],
   "source": [
    "loans.term = loans.term.str.strip()\n",
    "\n",
    "#& term == \"36 months\"\n",
    "\n",
    "charged_off_loans = loans.query( 'loan_status == \"Charged Off\" ' )[ ['issue_d', 'last_pymnt_d'] ]\n",
    "charged_off_loans.dropna(inplace=True, how='any')\n",
    "\n",
    "charged_off_loans.head(5)"
   ]
  },
  {
   "cell_type": "markdown",
   "metadata": {},
   "source": [
    "Looks like LC only reports issue/payment date on the first of each month. Let's confirm"
   ]
  },
  {
   "cell_type": "code",
   "execution_count": 29,
   "metadata": {
    "collapsed": false
   },
   "outputs": [
    {
     "data": {
      "text/plain": [
       "True"
      ]
     },
     "execution_count": 29,
     "metadata": {},
     "output_type": "execute_result"
    }
   ],
   "source": [
    "charged_off_loans.issue_d.dt.is_month_start.all()"
   ]
  },
  {
   "cell_type": "code",
   "execution_count": 30,
   "metadata": {
    "collapsed": false
   },
   "outputs": [
    {
     "data": {
      "text/plain": [
       "True"
      ]
     },
     "execution_count": 30,
     "metadata": {},
     "output_type": "execute_result"
    }
   ],
   "source": [
    "charged_off_loans.last_pymnt_d.dt.is_month_start.all()"
   ]
  },
  {
   "cell_type": "markdown",
   "metadata": {},
   "source": [
    "### Number of months to charge off\n",
    "I didn't want to use dt.days/30 and this seemed easier than relative_date()"
   ]
  },
  {
   "cell_type": "code",
   "execution_count": 31,
   "metadata": {
    "collapsed": false
   },
   "outputs": [
    {
     "data": {
      "text/plain": [
       "count    44721.000000\n",
       "mean        13.120346\n",
       "std          8.403807\n",
       "min          1.000000\n",
       "25%          7.000000\n",
       "50%         11.000000\n",
       "75%         18.000000\n",
       "max         62.000000\n",
       "dtype: float64"
      ]
     },
     "execution_count": 31,
     "metadata": {},
     "output_type": "execute_result"
    }
   ],
   "source": [
    "time_to_charge_off =  (charged_off_loans.last_pymnt_d.dt.year * 12 + charged_off_loans.last_pymnt_d.dt.month) - (charged_off_loans.issue_d.dt.year*12 + charged_off_loans.issue_d.dt.month)\n",
    "time_to_charge_off.describe()"
   ]
  },
  {
   "cell_type": "markdown",
   "metadata": {},
   "source": [
    "50% of chargeoffs happen in the first year of the loan's life"
   ]
  },
  {
   "cell_type": "code",
   "execution_count": 32,
   "metadata": {
    "collapsed": false,
    "scrolled": false
   },
   "outputs": [
    {
     "data": {
      "text/plain": [
       "<matplotlib.axes._subplots.AxesSubplot at 0x1de5ef60>"
      ]
     },
     "execution_count": 32,
     "metadata": {},
     "output_type": "execute_result"
    },
    {
     "data": {
      "image/png": "[encoded data removed]",
      "text/plain": [
       "<matplotlib.figure.Figure at 0x2a9a54a8>"
      ]
     },
     "metadata": {},
     "output_type": "display_data"
    }
   ],
   "source": [
    "time_to_charge_off.hist(bins=70, range=(0,70), figsize=(15,10))"
   ]
  },
  {
   "cell_type": "markdown",
   "metadata": {},
   "source": [
    "I wonder if certain months have more charge offs"
   ]
  },
  {
   "cell_type": "markdown",
   "metadata": {},
   "source": [
    "## Time of year of chargeoffs"
   ]
  },
  {
   "cell_type": "code",
   "execution_count": 33,
   "metadata": {
    "collapsed": false
   },
   "outputs": [
    {
     "data": {
      "text/plain": [
       "<matplotlib.axes._subplots.AxesSubplot at 0x1dcbd2b0>"
      ]
     },
     "execution_count": 33,
     "metadata": {},
     "output_type": "execute_result"
    },
    {
     "data": {
      "image/png": "[encoded data removed]",
      "text/plain": [
       "<matplotlib.figure.Figure at 0x27e4f358>"
      ]
     },
     "metadata": {},
     "output_type": "display_data"
    }
   ],
   "source": [
    "charged_off_loans.last_pymnt_d.dt.month.value_counts(sort=False).plot(figsize=(15,10))"
   ]
  },
  {
   "cell_type": "code",
   "execution_count": 38,
   "metadata": {
    "collapsed": false
   },
   "outputs": [
    {
     "data": {
      "text/plain": [
       "1     3117\n",
       "2     2935\n",
       "3     3701\n",
       "4     3815\n",
       "5     4155\n",
       "6     4648\n",
       "7     5503\n",
       "8     4447\n",
       "9     3346\n",
       "10    3421\n",
       "11    2595\n",
       "12    3038\n",
       "Name: last_pymnt_d, dtype: int64"
      ]
     },
     "execution_count": 38,
     "metadata": {},
     "output_type": "execute_result"
    }
   ],
   "source": [
    "charged_off_loans.last_pymnt_d.dt.month.value_counts(sort=False)"
   ]
  },
  {
   "cell_type": "markdown",
   "metadata": {},
   "source": [
    "Chargeoffs peak in july/august. But loans need to go late before that, so we should shift by about four months prior. "
   ]
  },
  {
   "cell_type": "code",
   "execution_count": 39,
   "metadata": {
    "collapsed": false
   },
   "outputs": [
    {
     "data": {
      "text/plain": [
       "1     4155.0\n",
       "2     4648.0\n",
       "3     5503.0\n",
       "4     4447.0\n",
       "5     3346.0\n",
       "6     3421.0\n",
       "7     2595.0\n",
       "8     3038.0\n",
       "9        NaN\n",
       "10       NaN\n",
       "11       NaN\n",
       "12       NaN\n",
       "Name: last_pymnt_d, dtype: float64"
      ]
     },
     "execution_count": 39,
     "metadata": {},
     "output_type": "execute_result"
    }
   ],
   "source": [
    "charged_off_loans.last_pymnt_d.dt.month.value_counts(sort=False).shift(-4)"
   ]
  },
  {
   "cell_type": "markdown",
   "metadata": {},
   "source": [
    "So March is when these loans will really start to miss payments"
   ]
  },
  {
   "cell_type": "code",
   "execution_count": null,
   "metadata": {
    "collapsed": true
   },
   "outputs": [],
   "source": []
  }
 ],
 "metadata": {
  "kernelspec": {
   "display_name": "Python 3",
   "language": "python",
   "name": "python3"
  },
  "language_info": {
   "codemirror_mode": {
    "name": "ipython",
    "version": 3
   },
   "file_extension": ".py",
   "mimetype": "text/x-python",
   "name": "python",
   "nbconvert_exporter": "python",
   "pygments_lexer": "ipython3",
   "version": "3.5.1"
  }
 },
 "nbformat": 4,
 "nbformat_minor": 0
}

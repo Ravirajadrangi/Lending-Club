{
 "cells": [
  {
   "cell_type": "code",
   "execution_count": null,
   "metadata": {
    "collapsed": false
   },
   "outputs": [],
   "source": [
    "import requests\n",
    "import pandas as pd\n",
    "import json"
   ]
  },
  {
   "cell_type": "code",
   "execution_count": null,
   "metadata": {
    "collapsed": false
   },
   "outputs": [],
   "source": [
    "api_key_info = json.load( open('C:/Users/Dharik/lc_api.json') )['normal']\n",
    "investor_id = api_key_info['investor_id']\n",
    "auth = api_key_info['auth']"
   ]
  },
  {
   "cell_type": "markdown",
   "metadata": {},
   "source": [
    "# Get all my current notes"
   ]
  },
  {
   "cell_type": "code",
   "execution_count": null,
   "metadata": {
    "collapsed": false
   },
   "outputs": [],
   "source": [
    "r = requests.get('https://api.lendingclub.com/api/investor/v1/accounts/' + investor_id + '/detailednotes', headers={'Authorization': auth, 'Accept':'application/json'}) \n",
    "my_notes = pd.DataFrame( r.json().get('myNotes') )\n",
    "my_notes.set_index( 'loanId', inplace=True )"
   ]
  },
  {
   "cell_type": "code",
   "execution_count": null,
   "metadata": {
    "collapsed": false,
    "scrolled": true
   },
   "outputs": [],
   "source": [
    "print( 'Got', len(my_notes), 'notes')"
   ]
  },
  {
   "cell_type": "markdown",
   "metadata": {},
   "source": [
    "# Sell any bad notes"
   ]
  },
  {
   "cell_type": "code",
   "execution_count": null,
   "metadata": {
    "collapsed": false
   },
   "outputs": [],
   "source": [
    "bad_notes = my_notes.query('(currentPaymentStatus == \"Overdue\" | currentPaymentStatus == \"Not Received\") & canBeTraded == True')"
   ]
  },
  {
   "cell_type": "code",
   "execution_count": null,
   "metadata": {
    "collapsed": false
   },
   "outputs": [],
   "source": [
    "print( 'There are', len(bad_notes), 'notes that are late')\n",
    "\n",
    "pd.set_option('display.max_columns', None)\n",
    "bad_notes"
   ]
  },
  {
   "cell_type": "markdown",
   "metadata": {},
   "source": [
    "### Set some discounted price"
   ]
  },
  {
   "cell_type": "code",
   "execution_count": null,
   "metadata": {
    "collapsed": false
   },
   "outputs": [],
   "source": [
    "notes_to_sell = []\n",
    "for loanId,rowData in bad_notes.iterrows():\n",
    "    remainingValue = rowData['principalPending'] + rowData['accruedInterest']\n",
    "    \n",
    "    if rowData['loanStatus'].find('Grace') > 0:\n",
    "        askPrice = remainingValue *.8\n",
    "    elif rowData['loanStatus'].find('120') > 0:\n",
    "        askPrice = remainingValue * .3\n",
    "    else:\n",
    "        askPrice = remainingValue * .6\n",
    "        \n",
    "    print( 'Status:', rowData['loanStatus'], 'Remaining:', remainingValue, 'Ask Price:', askPrice)\n",
    "    \n",
    "    notes_to_sell.append({'loanId':int(loanId), \"orderId\": rowData['orderId'], \"noteId\": rowData['noteId'], \"askingPrice\": askPrice})\n",
    "\n",
    "notes_to_sell"
   ]
  },
  {
   "cell_type": "code",
   "execution_count": null,
   "metadata": {
    "collapsed": false
   },
   "outputs": [],
   "source": [
    "import datetime \n",
    "\n",
    "expire_date = datetime.datetime.now() + datetime.timedelta(days=4)\n",
    "\n",
    "sell_request = {\"aid\": investor_id, \"expireDate\": expire_date.strftime('%m/%d/%Y'), \"notes\":notes_to_sell}\n",
    "\n",
    "sell_request"
   ]
  },
  {
   "cell_type": "markdown",
   "metadata": {},
   "source": [
    "### Submit sell request"
   ]
  },
  {
   "cell_type": "code",
   "execution_count": null,
   "metadata": {
    "collapsed": false
   },
   "outputs": [],
   "source": [
    "r = requests.post('https://api.lendingclub.com/api/investor/v1/accounts/' + investor_id + '/trades/sell', headers={'Authorization': auth, 'Accept':'application/json'}, json=sell_request) "
   ]
  },
  {
   "cell_type": "code",
   "execution_count": null,
   "metadata": {
    "collapsed": false
   },
   "outputs": [],
   "source": [
    "from pprint import pprint\n",
    "pprint(r.json())"
   ]
  }
 ],
 "metadata": {
  "kernelspec": {
   "display_name": "Python 3",
   "language": "python",
   "name": "python3"
  },
  "language_info": {
   "codemirror_mode": {
    "name": "ipython",
    "version": 3
   },
   "file_extension": ".py",
   "mimetype": "text/x-python",
   "name": "python",
   "nbconvert_exporter": "python",
   "pygments_lexer": "ipython3",
   "version": "3.5.1"
  }
 },
 "nbformat": 4,
 "nbformat_minor": 0
}

{
 "cells": [
  {
   "cell_type": "code",
   "execution_count": null,
   "metadata": {
    "collapsed": false
   },
   "outputs": [],
   "source": [
    "import pandas as pd\n",
    "notes_for_sale = pd.read_csv( 'https://resources.lendingclub.com/SecondaryMarketAllNotes.csv')"
   ]
  },
  {
   "cell_type": "code",
   "execution_count": null,
   "metadata": {
    "collapsed": false
   },
   "outputs": [],
   "source": [
    "notes_for_sale.columns = ['LoanId', 'NoteId', 'OrderId', 'OutstandingPrincipal',\n",
    "       'AccruedInterest', 'Status', 'AskPrice', 'Markup', 'YTM',\n",
    "       'DaysSinceLastPayment', 'CreditScoreTrend', 'FICO',\n",
    "       'DateListed', 'NeverLate', 'LoanClass', 'LoanMaturity',\n",
    "       'OriginalNoteAmount', 'InterestRate', 'RemainingPayments',\n",
    "       'PrincipalPlusInterest', 'ApplicationType']\n",
    "\n",
    "notes_for_sale = notes_for_sale[notes_for_sale.AskPrice > 1]\n",
    "notes_for_sale.DaysSinceLastPayment = pd.to_numeric(notes_for_sale.DaysSinceLastPayment, errors=\"coerce\")\n",
    "notes_for_sale.DateListed = pd.to_datetime(notes_for_sale.DateListed, errors=\"coerce\", format=\"%m/%d/%Y\")\n",
    "notes_for_sale.YTM = pd.to_numeric(notes_for_sale.YTM, errors=\"coerce\")\n",
    "notes_for_sale.DaysSinceLastPayment = pd.to_numeric(notes_for_sale.DaysSinceLastPayment, errors=\"coerce\")\n",
    "notes_for_sale.CreditScoreTrend = notes_for_sale.CreditScoreTrend.astype('category')\n",
    "\n",
    "notes_for_sale.info()"
   ]
  },
  {
   "cell_type": "code",
   "execution_count": null,
   "metadata": {
    "collapsed": false,
    "scrolled": true
   },
   "outputs": [],
   "source": [
    "notes_to_buy = notes_for_sale.query('Status == \"Current\" & Markup < 3 & YTM > 5 & CreditScoreTrend == \"UP\" & NeverLate == True & RemainingPayments <=11 &AskPrice < 20 & DaysSinceLastPayment < 31')\n",
    "notes_to_buy"
   ]
  },
  {
   "cell_type": "code",
   "execution_count": null,
   "metadata": {
    "collapsed": true
   },
   "outputs": [],
   "source": [
    "import requests\n",
    "import pandas as pd\n",
    "import json"
   ]
  },
  {
   "cell_type": "code",
   "execution_count": null,
   "metadata": {
    "collapsed": true
   },
   "outputs": [],
   "source": [
    "api_key_info = json.load( open('C:/Users/Dharik/lc_api.json') )['ira']\n",
    "investor_id = api_key_info['investor_id']\n",
    "auth = api_key_info['auth']"
   ]
  },
  {
   "cell_type": "code",
   "execution_count": null,
   "metadata": {
    "collapsed": false
   },
   "outputs": [],
   "source": [
    "r = requests.get('https://api.lendingclub.com/api/investor/v1/accounts/' + investor_id + '/detailednotes', headers={'Authorization': auth, 'Accept':'application/json'}) \n",
    "my_notes = pd.DataFrame( r.json().get('myNotes') )\n",
    "my_notes.set_index( 'loanId', inplace=True )\n",
    "print( 'Got my notes: ', len(my_notes))"
   ]
  },
  {
   "cell_type": "code",
   "execution_count": null,
   "metadata": {
    "collapsed": false,
    "scrolled": false
   },
   "outputs": [],
   "source": [
    "buy_request = { \"aid\": investor_id, \"notes\": [] }\n",
    "for idx, rowData in notes_to_buy.iterrows():\n",
    "    LoanId = rowData['LoanId']\n",
    "    if LoanId not in my_notes.index:\n",
    "        buy_request[\"notes\"].append({\"loanId\": LoanId, \"orderId\": rowData['OrderId'], \"noteId\":rowData['NoteId'], \"bidPrice\": rowData['AskPrice']} )\n",
    "        \n",
    "buy_request"
   ]
  },
  {
   "cell_type": "code",
   "execution_count": null,
   "metadata": {
    "collapsed": false
   },
   "outputs": [],
   "source": [
    "r = requests.post('https://api.lendingclub.com/api/investor/v1/accounts/' + investor_id + '/trades/buy', headers={'Authorization': auth, 'Content-Type':'application/json'}, json=buy_request) \n",
    "from pprint import pprint\n",
    "pprint(r.json())"
   ]
  },
  {
   "cell_type": "code",
   "execution_count": null,
   "metadata": {
    "collapsed": true
   },
   "outputs": [],
   "source": []
  }
 ],
 "metadata": {
  "kernelspec": {
   "display_name": "Python 3",
   "language": "python",
   "name": "python3"
  },
  "language_info": {
   "codemirror_mode": {
    "name": "ipython",
    "version": 3
   },
   "file_extension": ".py",
   "mimetype": "text/x-python",
   "name": "python",
   "nbconvert_exporter": "python",
   "pygments_lexer": "ipython3",
   "version": "3.5.1"
  }
 },
 "nbformat": 4,
 "nbformat_minor": 0
}
